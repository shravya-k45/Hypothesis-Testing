{
 "cells": [
  {
   "cell_type": "code",
   "execution_count": 1,
   "metadata": {},
   "outputs": [],
   "source": [
    "import numpy as np\n",
    "from scipy.stats import t,norm\n",
    "import matplotlib.pyplot as plt"
   ]
  },
  {
   "cell_type": "code",
   "execution_count": 2,
   "metadata": {},
   "outputs": [],
   "source": [
    "## tscore for normal distribution\n",
    "def t_score(sample_size,sample_mean,pop_mean,sample_std):\n",
    "        numerator=sample_mean-pop_mean\n",
    "        denominator=sample_std/(sample_size-1)**0.5\n",
    "        return numerator/denominator"
   ]
  },
  {
   "cell_type": "markdown",
   "metadata": {},
   "source": [
    "\n",
    "##  Ques- 1: Pista House selling Hyderabadi Chicken Dum biryani claims that each parcel packet has 500 grams of biryani (also mentioned on the label of packet). You are sceptic of their claims and believe that on average each packet does not contain 500 grams of biryani. How do you prove your claim?"
   ]
  },
  {
   "cell_type": "markdown",
   "metadata": {},
   "source": [
    "\n",
    "$\\ Step - 1 :\\\\ \\ Alternate \\ hypothesis\\ (bold\\ claim) :$ $$\\ {H1} = Each\\ packet\\ does\\ not\\\\contain\\ 500\\ grams $$ $\\ Null \\ hypothesis\\ (status\\ quo) : $ $$\\ {H0} = Each\\ packet\\ does\\ contain\\ 500\\ grams $$\n",
    "\n",
    "$\\ Step-2:\\\\ \\bullet\\ Collection\\ of\\ sample\\ size :n=10\\\\ $ $$ [ 456,430,340,510,490,505,418,439,520,498] $$ $ \\bullet\\ Compute\\ sample\\ mean: $ $$ \\bar{x} = ?$$\n",
    "\n",
    "$\\ Step-3: \\\\ \\ Compute\\ test\\ statistic\\ (as\\ population\\ std.dev\\ is\\ not\\ given):\\\\ $ $$ t = \\frac{\\bar{x}-\\mu_{\\bar{x}}}{\\frac{\\ S}{\\sqrt{n}}} $$\n",
    "\n",
    "$\\ Step-4: \\\\ \\ Decide\\ \\alpha\\ or\\ significance\\ level.$\n",
    "\n",
    "$\\ Step-5.1: \\\\ \\ Calculate\\ tailed\\ t-test\\ ?$ $$ Reject\\ Null\\ hypothesis\\ or\\ not\\ ? $$ $\\ Step-5.2: \\\\ \\ Calculate\\ p-value\\ ?$\n"
   ]
  },
  {
   "cell_type": "code",
   "execution_count": 3,
   "metadata": {},
   "outputs": [
    {
     "name": "stdout",
     "output_type": "stream",
     "text": [
      "460.6\n",
      "52.9021738683771\n"
     ]
    }
   ],
   "source": [
    "# calculating sample_mean sample_standard_deviation\n",
    "sample=[456,430,340,510,490,505,418,439,520,498]\n",
    "sample_mean=np.mean(sample)\n",
    "sample_std=np.std(sample)\n",
    "pop_mean=500\n",
    "sample_size=10\n",
    "print(sample_mean)\n",
    "print(sample_std)"
   ]
  },
  {
   "cell_type": "code",
   "execution_count": 4,
   "metadata": {},
   "outputs": [
    {
     "name": "stdout",
     "output_type": "stream",
     "text": [
      "-2.2343127201934396\n"
     ]
    }
   ],
   "source": [
    "# calculating t_score\n",
    "T_score=t_score(sample_size,sample_mean,pop_mean,sample_std)\n",
    "print(T_score)"
   ]
  },
  {
   "cell_type": "code",
   "execution_count": 5,
   "metadata": {},
   "outputs": [
    {
     "name": "stdout",
     "output_type": "stream",
     "text": [
      "2.2621571627409915\n"
     ]
    }
   ],
   "source": [
    "#calculating t_critical value\n",
    "confidence_level=0.95\n",
    "df=9\n",
    "alpha=1-confidence_level\n",
    "t_critical=t.ppf(1-alpha/2,df)\n",
    "print(t_critical)"
   ]
  },
  {
   "cell_type": "code",
   "execution_count": 6,
   "metadata": {
    "scrolled": true
   },
   "outputs": [
    {
     "name": "stdout",
     "output_type": "stream",
     "text": [
      "462.15606458335276\n",
      "537.8439354166472\n"
     ]
    },
    {
     "data": {
      "text/plain": [
       "Text(460.6, 0.0009, 'X_bar')"
      ]
     },
     "execution_count": 6,
     "metadata": {},
     "output_type": "execute_result"
    },
    {
     "data": {
      "image/png": "[encoded data removed]",
      "text/plain": [
       "<Figure size 432x288 with 1 Axes>"
      ]
     },
     "metadata": {
      "needs_background": "light"
     },
     "output_type": "display_data"
    }
   ],
   "source": [
    "# plotting the sample distribution with rejected region\n",
    "x_min=400\n",
    "x_max=600\n",
    "\n",
    "# defining the sample_mean and sample_std \n",
    "mean=pop_mean\n",
    "std=sample_std/sample_size**0.5\n",
    "\n",
    "# plotting graphs and setting limits\n",
    "x=np.linspace(x_min,x_max,100)\n",
    "y=norm.pdf(x,mean,std)\n",
    "plt.xlim(x_min,x_max)\n",
    "plt.plot(x,y)\n",
    "\n",
    "# computing left and right critical values\n",
    "t_critical_left=pop_mean+(-t_critical*std)\n",
    "t_critical_right=pop_mean+ (t_critical*std)\n",
    "print(t_critical_left)\n",
    "print(t_critical_right)\n",
    "# shading left rejection region\n",
    "x1=np.linspace(x_min,t_critical_left,100)\n",
    "y1=norm.pdf(x1,mean,std)\n",
    "plt.fill_between(x1,y1,color=\"yellow\")\n",
    "\n",
    "# shading right rejection region\n",
    "x2=np.linspace(x_max,t_critical_right,100)\n",
    "y2=norm.pdf(x2,mean,std)\n",
    "plt.fill_between(x2,y2,color=\"yellow\")\n",
    "\n",
    "# plotting the sample_mean\n",
    "plt.scatter(sample_mean,0)\n",
    "plt.annotate('X_bar',(sample_mean,0.0009))\n"
   ]
  },
  {
   "cell_type": "code",
   "execution_count": 7,
   "metadata": {},
   "outputs": [
    {
     "name": "stdout",
     "output_type": "stream",
     "text": [
      "Failed to Reject null hypothesis\n"
     ]
    }
   ],
   "source": [
    "# conclusion using t-test\n",
    "if(np.abs(T_score)>t_critical):\n",
    "    print(\"Reject null hypothesis\")\n",
    "else:\n",
    "    print(\"Failed to Reject null hypothesis\")"
   ]
  },
  {
   "cell_type": "code",
   "execution_count": 8,
   "metadata": {},
   "outputs": [
    {
     "name": "stdout",
     "output_type": "stream",
     "text": [
      "P_value: 1.9999999999867322\n",
      "Failed to Reject null hypothesis\n"
     ]
    }
   ],
   "source": [
    "# conclusion using p-test:\n",
    "p_value=2*(1.0-norm.cdf(np.abs(T_score),df))\n",
    "print(\"P_value:\",p_value)\n",
    "if p_value<alpha:\n",
    "    print(\"Reject null hypothesis\")\n",
    "else:\n",
    "    print(\"Failed to Reject null hypothesis\")\n",
    "    "
   ]
  },
  {
   "cell_type": "markdown",
   "metadata": {},
   "source": [
    "\n",
    "## Ques-2: You have developed a new Natural Language Processing Algorithms and done a user study. You claim that the average rating given by the users is greater than 4 on a scale of 1 to 5. How do you prove this to your client?"
   ]
  },
  {
   "cell_type": "markdown",
   "metadata": {},
   "source": [
    "$\\ Step - 1 :\\\\ \\ Alternate \\ hypothesis\\ (bold\\ claim) :$ $$\\ {H1} = All\\ users\\ rating\\ are\\ not\\ above\\ 4 $$ $\\ Null \\ hypothesis\\ (status\\ quo) : $ $$\\ {H0} = Users\\ ratings\\ are\\ above\\ 4 $$\n",
    "\n",
    "$\\ Step-2:\\\\ \\bullet\\ Collection\\ of\\ sample\\ size :n=20\\\\ $ $$ [ 4,3,5,4,5,3,5,5,4,2,4,5,5,4,4,5,4,5,4,5 ] $$ $ \\bullet\\ Compute\\ sample\\ mean: $ $$ \\bar{x} = ?$$\n",
    "\n",
    "$\\ Step-3: \\\\ \\ Compute\\ test\\ statistic\\ (as\\ population\\ std.dev\\ is\\ not\\ given):\\\\ $ $$ t = \\frac{\\bar{x}-\\mu_{\\bar{x}}}{\\frac{\\ S}{\\sqrt{n}}} $$\n",
    "\n",
    "$\\ Step-4: \\\\ \\ Decide\\ \\alpha\\ or\\ significance\\ level.$\n",
    "\n",
    "$\\ Step-5.1: \\\\ \\ Calculate\\ tailed\\ t-test\\ ?$ $$ Reject\\ Null\\ hypothesis\\ or\\ not\\ ? $$ $\\ Step-5.2: \\\\ \\ Calculate\\ p-value\\ ?$"
   ]
  },
  {
   "cell_type": "code",
   "execution_count": 9,
   "metadata": {},
   "outputs": [
    {
     "name": "stdout",
     "output_type": "stream",
     "text": [
      "4.25\n",
      "0.82915619758885\n"
     ]
    }
   ],
   "source": [
    "#  calculating sample_mean,sample_std\n",
    "sample=[4,3,5,4,5,3,5,5,4,2,4,5,5,4,4,5,4,5,4,5]\n",
    "sample_mean=np.mean(sample)\n",
    "sample_std=np.std(sample)\n",
    "sample_size=20\n",
    "pop_mean=4\n",
    "print(sample_mean)\n",
    "print(sample_std)"
   ]
  },
  {
   "cell_type": "code",
   "execution_count": 10,
   "metadata": {},
   "outputs": [
    {
     "name": "stdout",
     "output_type": "stream",
     "text": [
      "1.3142574813455419\n"
     ]
    }
   ],
   "source": [
    "# calculating t score\n",
    "T_score= t_score(sample_size,sample_mean,pop_mean,sample_std)\n",
    "print(T_score)"
   ]
  },
  {
   "cell_type": "code",
   "execution_count": 11,
   "metadata": {},
   "outputs": [
    {
     "name": "stdout",
     "output_type": "stream",
     "text": [
      "1.729132811521367\n"
     ]
    }
   ],
   "source": [
    "# calculating t_critical valaues\n",
    "cofidence_level=0.95\n",
    "df=19\n",
    "alpha=1-confidence_level\n",
    "t_critical=t.ppf(1-alpha,df)\n",
    "print(t_critical)"
   ]
  },
  {
   "cell_type": "code",
   "execution_count": 12,
   "metadata": {},
   "outputs": [
    {
     "name": "stdout",
     "output_type": "stream",
     "text": [
      "4.320589803519805\n"
     ]
    },
    {
     "data": {
      "text/plain": [
       "Text(4.25, 0.01, 'X-bar')"
      ]
     },
     "execution_count": 12,
     "metadata": {},
     "output_type": "execute_result"
    },
    {
     "data": {
      "image/png": "[encoded data removed]",
      "text/plain": [
       "<Figure size 432x288 with 1 Axes>"
      ]
     },
     "metadata": {
      "needs_background": "light"
     },
     "output_type": "display_data"
    }
   ],
   "source": [
    "# plotting sampling distribution with rejected area\n",
    "x_min=3.5\n",
    "x_max=4.5\n",
    "\n",
    "# defining the mean and standard deviation\n",
    "mean=pop_mean\n",
    "std=sample_std/(sample_size**0.5)\n",
    "\n",
    "# plotting graph and setting  xlim\n",
    "x=np.linspace(x_min,x_max,100)\n",
    "y=norm.pdf(x,mean,std)\n",
    "plt.xlim(x_min,x_max)\n",
    "plt.plot(x,y)\n",
    "\n",
    "# computing right critical  t_value\n",
    "t_critical_right=pop_mean+(t_critical*std)\n",
    "print(t_critical_right)\n",
    "\n",
    "#shading the right rejection region\n",
    "x1=np.linspace(t_critical_right,x_max,100)\n",
    "y1=norm.pdf(x1,mean,std)\n",
    "plt.fill_between(x1,y1,color='yellow')\n",
    "\n",
    "# plotting the sample mean and conclude results\n",
    "plt.scatter(sample_mean,0)\n",
    "plt.annotate(\"X-bar\",(sample_mean,0.01))\n",
    "\n"
   ]
  },
  {
   "cell_type": "code",
   "execution_count": 13,
   "metadata": {},
   "outputs": [
    {
     "name": "stdout",
     "output_type": "stream",
     "text": [
      "Failed to Reject null hypothesis\n"
     ]
    }
   ],
   "source": [
    "# conclusion using t test\n",
    "if t_critical < T_score:\n",
    "    print(\"Reject null hypothesis\")\n",
    "else:\n",
    "    print(\"Failed to Reject null hypothesis\")"
   ]
  },
  {
   "cell_type": "code",
   "execution_count": 14,
   "metadata": {},
   "outputs": [
    {
     "name": "stdout",
     "output_type": "stream",
     "text": [
      "1.0\n",
      "0.050000000000000044\n",
      "Failed to Reject null hypothesis\n"
     ]
    }
   ],
   "source": [
    "# conclusion using p_value\n",
    "p_value=1.0- norm.cdf(np.abs(T_score),df)\n",
    "print(p_value)\n",
    "print(alpha)\n",
    "if p_value<alpha:\n",
    "    print(\"Reject null hypothesis\")\n",
    "else:\n",
    "    print(\"Failed to Reject null hypothesis\")"
   ]
  },
  {
   "cell_type": "markdown",
   "metadata": {},
   "source": [
    "## Ques-3: TATA has developed a better fuel management system for the SUV segment. They claim that with this system, on average the SUV's mileage is at least 15 km/litre?"
   ]
  },
  {
   "cell_type": "markdown",
   "metadata": {},
   "source": [
    "$\\ Step - 1 :\\\\ \\ Alternate \\ hypothesis\\ (bold\\ claim) :$ $$\\ {H1} = Average\\ mileage\\ is\\ not\\\\atleast\\ 15km/litre $$ $\\ Null \\ hypothesis\\ (status\\ quo) : $ $$\\ {H0} = Average\\ mileage\\ is\\ atleast\\ 15kmpl $$\n",
    "\n",
    "$\\ Step-2:\\\\ \\bullet\\ Collection\\ of\\ sample\\ size :n=20\\\\ $ $$ [ 14.08, 14.13, 15.65, 13.78, 16.26, 14.97, 15.36, 15.81, 14.53, 16.79, 15.78, 16.98, 13.23, 15.43, 15.46, 13.88, 14.31, 14.41, 15.76, 15.38] $$ $ \\bullet\\ Compute\\ sample\\ mean: $ $$ \\bar{x} = ?$$\n",
    "\n",
    "$\\ Step-3: \\\\ \\ Compute\\ test\\ statistic\\ (as\\ population\\ std.dev\\ is\\ not\\ given):\\\\ $ $$ t = \\frac{\\bar{x}-\\mu_{\\bar{x}}}{\\frac{\\ S}{\\sqrt{n}}} $$\n",
    "\n",
    "$\\ Step-4: \\\\ \\ Decide\\ \\alpha\\ or\\ significance\\ level.$\n",
    "\n",
    "$\\ Step-5.1: \\\\ \\ Calculate\\ tailed\\ t-test\\ ?$ $$ Reject\\ Null\\ hypothesis\\ or\\ not\\ ? $$ $\\ Step-5.2: \\\\ \\ Calculate\\ p-value\\ ?$"
   ]
  },
  {
   "cell_type": "code",
   "execution_count": 15,
   "metadata": {},
   "outputs": [
    {
     "name": "stdout",
     "output_type": "stream",
     "text": [
      "15.099\n",
      "0.9994043225842081\n"
     ]
    }
   ],
   "source": [
    "sample=[14.08,14.13,15.65,13.78,16.26,14.97,15.36,15.81,14.53,16.79,15.78,16.98,13.23,15.43,15.46,13.88,14.31,14.41,15.76,15.38]\n",
    "sample_mean=np.mean(sample)\n",
    "sample_std=np.std(sample)\n",
    "sample_size=20\n",
    "pop_mean=15\n",
    "print(sample_mean)\n",
    "print(sample_std)"
   ]
  },
  {
   "cell_type": "code",
   "execution_count": 16,
   "metadata": {},
   "outputs": [
    {
     "name": "stdout",
     "output_type": "stream",
     "text": [
      "0.43178820189079936\n"
     ]
    }
   ],
   "source": [
    "# calculating t_score\n",
    "T_score= t_score(sample_size,sample_mean,pop_mean,sample_std)\n",
    "print(T_score)"
   ]
  },
  {
   "cell_type": "code",
   "execution_count": 17,
   "metadata": {},
   "outputs": [
    {
     "name": "stdout",
     "output_type": "stream",
     "text": [
      "1.729132811521367\n"
     ]
    }
   ],
   "source": [
    "# calculating t_critical value\n",
    "confidence_level=0.95\n",
    "df=19\n",
    "alpha=1-confidence_level\n",
    "t_critical=t.ppf(1-alpha,df)\n",
    "print(t_critical)"
   ]
  },
  {
   "cell_type": "code",
   "execution_count": 18,
   "metadata": {},
   "outputs": [
    {
     "name": "stdout",
     "output_type": "stream",
     "text": [
      "15.386415534667439\n"
     ]
    },
    {
     "data": {
      "text/plain": [
       "Text(15.099, 0.01, 'X-bar')"
      ]
     },
     "execution_count": 18,
     "metadata": {},
     "output_type": "execute_result"
    },
    {
     "data": {
      "image/png": "[encoded data removed]",
      "text/plain": [
       "<Figure size 432x288 with 1 Axes>"
      ]
     },
     "metadata": {
      "needs_background": "light"
     },
     "output_type": "display_data"
    }
   ],
   "source": [
    "# ploting the graph with rejection region\n",
    "x_min=13\n",
    "x_max=17\n",
    "\n",
    "# defining the mean and standard deviation\n",
    "mean=pop_mean\n",
    "std=sample_std/(sample_size**0.5)\n",
    "\n",
    "#plotting the graph & setting xlim\n",
    "x=np.linspace(x_min,x_max,100)\n",
    "y=norm.pdf(x,mean,std)\n",
    "plt.xlim(x_min,x_max)\n",
    "plt.plot(x,y)\n",
    "\n",
    "#defining the right critical value\n",
    "t_critical_right=pop_mean+(t_critical*std)\n",
    "print(t_critical_right)\n",
    "\n",
    "# shading the rejection region\n",
    "x1=np.linspace(t_critical_right,x_max,100)\n",
    "y1=norm.pdf(x1,mean,std)\n",
    "plt.fill_between(x1,y1,color=\"yellow\")\n",
    "\n",
    "#plotting the graph sample mean and standard deviation\n",
    "plt.scatter(sample_mean,0)\n",
    "plt.annotate(\"X-bar\",(sample_mean,0.01))\n",
    "\n"
   ]
  },
  {
   "cell_type": "code",
   "execution_count": 19,
   "metadata": {},
   "outputs": [
    {
     "name": "stdout",
     "output_type": "stream",
     "text": [
      "Failed to reject null hypothesis\n"
     ]
    }
   ],
   "source": [
    "#Conclusion using t-test\n",
    "if(T_score>t_critical):\n",
    "    print(\"Reject null hypothesis\")\n",
    "else: \n",
    "    print(\"Failed to reject null hypothesis\")"
   ]
  },
  {
   "cell_type": "code",
   "execution_count": 20,
   "metadata": {},
   "outputs": [
    {
     "name": "stdout",
     "output_type": "stream",
     "text": [
      "P_value 1.0\n",
      "0.050000000000000044\n",
      "Failed to reject null hypothesis\n"
     ]
    }
   ],
   "source": [
    "#Conclusion using p-test\n",
    "p_value = 1.0 - norm.cdf(np.abs(T_score),df)\n",
    "print(\"P_value\",p_value)\n",
    "print(alpha)\n",
    "if (p_value<alpha):\n",
    "    print(\"Reject null hypothesis\")\n",
    "else:\n",
    "    print(\"Failed to reject null hypothesis\")"
   ]
  },
  {
   "cell_type": "markdown",
   "metadata": {},
   "source": [
    "## Ques-4: You have developed a new Machine Learning Application and claim that on average it takes less than 100 ms to predict for any future datapoint. How do you convince your client about this claim?"
   ]
  },
  {
   "cell_type": "markdown",
   "metadata": {},
   "source": [
    "$\\ Step - 1 :\\\\ \\ Alternate \\ hypothesis\\ (bold\\ claim) :$ $$\\ {H1} = Takes\\ more\\ than\\ 100ms\\ for\\ prediction $$ $\\ Null \\ hypothesis\\ (status\\ quo) : $ $$\\ {H0} = Takes\\ less\\ than\\ 100ms $$\n",
    "\n",
    "$\\ Step-2:\\\\ \\bullet\\ Collection\\ of\\ sample\\ size :n=20\\\\ $ $$ [ 110,99,87,120,89,98,95,97,119,102,105,109,100,93,82,116,107,102,112,91] $$ $ \\bullet\\ Compute\\ sample\\ mean: $ $$ \\bar{x} = ?$$\n",
    "\n",
    "$\\ Step-3: \\\\ \\ Compute\\ test\\ statistic\\ (as\\ population\\ std.dev\\ is\\ not\\ given):\\\\ $ $$ t = \\frac{\\bar{x}-\\mu_{\\bar{x}}}{\\frac{\\ S}{\\sqrt{n}}} $$\n",
    "\n",
    "$\\ Step-4: \\\\ \\ Decide\\ \\alpha\\ or\\ significance\\ level.$\n",
    "\n",
    "$\\ Step-5.1: \\\\ \\ Calculate\\ tailed\\ t-test\\ ?$ $$ Reject\\ Null\\ hypothesis\\ or\\ not\\ ? $$ $\\ Step-5.2: \\\\ \\ Calculate\\ p-value\\ ?$"
   ]
  },
  {
   "cell_type": "code",
   "execution_count": 21,
   "metadata": {},
   "outputs": [
    {
     "name": "stdout",
     "output_type": "stream",
     "text": [
      "101.65\n",
      "10.374367450596688\n"
     ]
    }
   ],
   "source": [
    "\n",
    "#Calculating sample mean and sample standard deviation\n",
    "sam = [110,99,87,120,89,98,95,97,119,102,105,109,100,93,82,116,107,102,112,91]\n",
    "sam_mean = np.mean(sam)\n",
    "sam_std = np.std(sam)\n",
    "pop_mean = 100\n",
    "sam_size = 20\n",
    "print(sam_mean)\n",
    "print(sam_std)\n"
   ]
  },
  {
   "cell_type": "code",
   "execution_count": 22,
   "metadata": {},
   "outputs": [
    {
     "name": "stdout",
     "output_type": "stream",
     "text": [
      "0.6932647499803444\n"
     ]
    }
   ],
   "source": [
    "#calculating t-score\n",
    "T_score = t_score(sam_size,sam_mean,pop_mean,sam_std)\n",
    "print(T_score)"
   ]
  },
  {
   "cell_type": "code",
   "execution_count": 23,
   "metadata": {},
   "outputs": [
    {
     "name": "stdout",
     "output_type": "stream",
     "text": [
      "2.539483190622288\n"
     ]
    }
   ],
   "source": [
    "\n",
    "#calculating t-critical\n",
    "confidence_level = 0.99\n",
    "alpha = 1 - confidence_level\n",
    "df = 19\n",
    "t_critical = t.ppf(1-alpha,df)\n",
    "print(t_critical)"
   ]
  },
  {
   "cell_type": "code",
   "execution_count": 24,
   "metadata": {},
   "outputs": [
    {
     "name": "stdout",
     "output_type": "stream",
     "text": [
      "94.10896000943876\n"
     ]
    },
    {
     "data": {
      "text/plain": [
       "Text(101.65, 0.01, 'x_bar')"
      ]
     },
     "execution_count": 24,
     "metadata": {},
     "output_type": "execute_result"
    },
    {
     "data": {
      "image/png": "[encoded data removed]",
      "text/plain": [
       "<Figure size 432x288 with 1 Axes>"
      ]
     },
     "metadata": {
      "needs_background": "light"
     },
     "output_type": "display_data"
    }
   ],
   "source": [
    "#plotting sample distribution with rejection region\n",
    "x_min = 80\n",
    "x_max = 120\n",
    "\n",
    "#Calculating mean and standard deviation\n",
    "mean = pop_mean\n",
    "std = sam_std / (sam_size**0.5)\n",
    "\n",
    "#plotting the graph and setting xlimits\n",
    "x = np.linspace(x_min,x_max,100)\n",
    "y = norm.pdf(x,mean,std)\n",
    "plt.xlim(x_min,x_max)\n",
    "plt.plot(x,y)\n",
    "\n",
    "#defining t critical left value\n",
    "t_critical_left = pop_mean + (-t_critical * std)\n",
    "print(t_critical_left)\n",
    "\n",
    "#shading the rejection region\n",
    "x1 = np.linspace(x_min,t_critical_left,100)\n",
    "y1 = norm.pdf(x1,mean,std)\n",
    "plt.fill_between(x1,y1,color='yellow')\n",
    "\n",
    "#Plotting sample mean and conclusion\n",
    "plt.scatter(sam_mean,0)\n",
    "plt.annotate(\"x_bar\",(sam_mean,0.01))"
   ]
  },
  {
   "cell_type": "code",
   "execution_count": 25,
   "metadata": {},
   "outputs": [
    {
     "name": "stdout",
     "output_type": "stream",
     "text": [
      "Failed to reject null hypothesis\n"
     ]
    }
   ],
   "source": [
    "#conclusion using t_test\n",
    "if (T_score<-t_critical):\n",
    "    print(\"Reject null hypothesis\")\n",
    "else:\n",
    "    print(\"Failed to reject null hypothesis\")"
   ]
  },
  {
   "cell_type": "code",
   "execution_count": 26,
   "metadata": {},
   "outputs": [
    {
     "name": "stdout",
     "output_type": "stream",
     "text": [
      "P_value: 1.0\n",
      "Failed to reject null hypothesis\n"
     ]
    }
   ],
   "source": [
    "#Conclusion using p- test\n",
    "p_value = 1.0 - norm.cdf(np.abs(T_score),df)\n",
    "print(\"P_value:\",p_value)\n",
    "if (p_value<alpha):\n",
    "    print(\"Reject null hypothesis\")\n",
    "else: \n",
    "    print(\"Failed to reject null hypothesis\")"
   ]
  },
  {
   "cell_type": "code",
   "execution_count": null,
   "metadata": {},
   "outputs": [],
   "source": []
  }
 ],
 "metadata": {
  "kernelspec": {
   "display_name": "Python 3",
   "language": "python",
   "name": "python3"
  },
  "language_info": {
   "codemirror_mode": {
    "name": "ipython",
    "version": 3
   },
   "file_extension": ".py",
   "mimetype": "text/x-python",
   "name": "python",
   "nbconvert_exporter": "python",
   "pygments_lexer": "ipython3",
   "version": "3.8.5"
  }
 },
 "nbformat": 4,
 "nbformat_minor": 4
}
